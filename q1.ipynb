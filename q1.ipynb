{
 "cells": [
  {
   "cell_type": "code",
   "execution_count": 8,
   "id": "411240c0",
   "metadata": {},
   "outputs": [
    {
     "data": {
      "text/plain": [
       "8"
      ]
     },
     "execution_count": 8,
     "metadata": {},
     "output_type": "execute_result"
    }
   ],
   "source": [
    "# Checking each possible sequence from the start and updating length.\n",
    "\n",
    "def slen(arr, n):\n",
    " \n",
    "    s = set(arr)\n",
    "    c = 0\n",
    "    for x in arr:\n",
    "        a = x         #current element.\n",
    "        count = 1     # Length of current sequence.\n",
    "        if a-1 not in s:\n",
    "            while a+1 in s:\n",
    "                a += 1        #Searching for the next number.\n",
    "                count += 1\n",
    " \n",
    "            #Take the length  of the maximum length sequence.\n",
    "            c = max(c, count)\n",
    "    return c\n",
    "\n",
    "\n",
    "arr = [9, 8, 7, 1, 2, 3, -4, -3, -1, -2, 0, 6]\n",
    "n = len(arr)\n",
    "slen(arr, n)"
   ]
  }
 ],
 "metadata": {
  "kernelspec": {
   "display_name": "Python 3",
   "language": "python",
   "name": "python3"
  },
  "language_info": {
   "codemirror_mode": {
    "name": "ipython",
    "version": 3
   },
   "file_extension": ".py",
   "mimetype": "text/x-python",
   "name": "python",
   "nbconvert_exporter": "python",
   "pygments_lexer": "ipython3",
   "version": "3.8.8"
  }
 },
 "nbformat": 4,
 "nbformat_minor": 5
}
